{
 "cells": [
  {
   "cell_type": "markdown",
   "metadata": {},
   "source": [
    "## **Connect to the database using Python**\n",
    "Marino Oliveros Blanco  NIU: 1668563\n",
    "\n",
    "Pere Mayol Carbonell NIU: 1669503"
   ]
  },
  {
   "cell_type": "code",
   "execution_count": 1,
   "metadata": {},
   "outputs": [
    {
     "name": "stdout",
     "output_type": "stream",
     "text": [
      "Table connected:  ACTIVE\n"
     ]
    }
   ],
   "source": [
    "import boto3\n",
    "\n",
    "# Creating a DynamoDB Instance (hiding secret key)\n",
    "dynamodb = boto3.resource('dynamodb',\n",
    "    aws_access_key_id='',\n",
    "    aws_secret_access_key='',\n",
    "    aws_session_token='',\n",
    "    region_name=''\n",
    ")\n",
    "\n",
    "table_name = 'orders'\n",
    "table = dynamodb.Table(table_name)\n",
    "\n",
    "print(\"Table connected: \", table.table_status)"
   ]
  },
  {
   "cell_type": "code",
   "execution_count": 2,
   "metadata": {},
   "outputs": [
    {
     "name": "stdout",
     "output_type": "stream",
     "text": [
      "{'details': {'entree': 'salad', 'sides': {'apple', 'water'}}, 'order': Decimal('14'), 'item': Decimal('1'), 'status': 'WIP'}\n",
      "{'details': {'entree': 'BLT sandwich', 'sides': {'water'}}, 'order': Decimal('14'), 'item': Decimal('2'), 'status': 'WIP'}\n",
      "{'details': {'entree': 'salad', 'sides': {'apple', 'water'}}, 'order': Decimal('16'), 'item': Decimal('1'), 'status': 'DONE'}\n",
      "{'details': {'entree': 'burger', 'sides': {'soda', 'fries'}}, 'order': Decimal('15'), 'item': Decimal('1'), 'status': 'WIP'}\n"
     ]
    }
   ],
   "source": [
    "# Reading all the values of the table\n",
    "response = table.scan()\n",
    "\n",
    "for item in response['Items']:\n",
    "    print(item)"
   ]
  },
  {
   "cell_type": "code",
   "execution_count": 5,
   "metadata": {},
   "outputs": [
    {
     "data": {
      "text/plain": [
       "[]"
      ]
     },
     "execution_count": 5,
     "metadata": {},
     "output_type": "execute_result"
    }
   ],
   "source": [
    "from boto3.dynamodb.conditions import Key\n",
    "# Making queryies\n",
    "\n",
    "response = table.query(\n",
    "    KeyConditionExpression=Key('order').eq(4)\n",
    "    )\n",
    "\n",
    "response.get('Items', [])"
   ]
  }
 ],
 "metadata": {
  "kernelspec": {
   "display_name": "collegeEnv",
   "language": "python",
   "name": "python3"
  },
  "language_info": {
   "codemirror_mode": {
    "name": "ipython",
    "version": 3
   },
   "file_extension": ".py",
   "mimetype": "text/x-python",
   "name": "python",
   "nbconvert_exporter": "python",
   "pygments_lexer": "ipython3",
   "version": "3.10.13"
  }
 },
 "nbformat": 4,
 "nbformat_minor": 2
}
