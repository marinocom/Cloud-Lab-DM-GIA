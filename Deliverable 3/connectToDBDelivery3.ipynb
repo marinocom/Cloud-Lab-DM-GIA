{
  "cells": [
    {
      "cell_type": "markdown",
      "metadata": {
        "id": "6JDfRjpQh9BP"
      },
      "source": [
        "## **Connect to the database using Python**\n",
        "Marino Oliveros Blanco  NIU: 1668563\n",
        "\n",
        "Pere Mayol Carbonell NIU: 1669503"
      ]
    },
    {
      "cell_type": "code",
      "execution_count": 34,
      "metadata": {
        "colab": {
          "base_uri": "https://localhost:8080/"
        },
        "id": "yj_GEALnh-bm",
        "outputId": "77ba2991-4e7c-473d-9a9f-79b1fdd3b26e"
      },
      "outputs": [
        {
          "name": "stdout",
          "output_type": "stream",
          "text": [
            "Requirement already satisfied: boto3 in /usr/local/lib/python3.10/dist-packages (1.35.93)\n",
            "Requirement already satisfied: botocore<1.36.0,>=1.35.93 in /usr/local/lib/python3.10/dist-packages (from boto3) (1.35.93)\n",
            "Requirement already satisfied: jmespath<2.0.0,>=0.7.1 in /usr/local/lib/python3.10/dist-packages (from boto3) (1.0.1)\n",
            "Requirement already satisfied: s3transfer<0.11.0,>=0.10.0 in /usr/local/lib/python3.10/dist-packages (from boto3) (0.10.4)\n",
            "Requirement already satisfied: python-dateutil<3.0.0,>=2.1 in /usr/local/lib/python3.10/dist-packages (from botocore<1.36.0,>=1.35.93->boto3) (2.8.2)\n",
            "Requirement already satisfied: urllib3!=2.2.0,<3,>=1.25.4 in /usr/local/lib/python3.10/dist-packages (from botocore<1.36.0,>=1.35.93->boto3) (2.2.3)\n",
            "Requirement already satisfied: six>=1.5 in /usr/local/lib/python3.10/dist-packages (from python-dateutil<3.0.0,>=2.1->botocore<1.36.0,>=1.35.93->boto3) (1.17.0)\n"
          ]
        }
      ],
      "source": [
        "!pip install boto3"
      ]
    },
    {
      "cell_type": "code",
      "execution_count": 35,
      "metadata": {
        "colab": {
          "base_uri": "https://localhost:8080/"
        },
        "id": "BuJt7piYh9BR",
        "outputId": "6914bc16-12ef-4075-9f0b-6e952ed065e2"
      },
      "outputs": [
        {
          "name": "stdout",
          "output_type": "stream",
          "text": [
            "Table connected:  ACTIVE\n"
          ]
        }
      ],
      "source": [
        "import boto3\n",
        "\n",
        "dynamodb = boto3.resource('dynamodb',\n",
        "    aws_access_key_id='',\n",
        "    aws_secret_access_key='',\n",
        "    aws_session_token='',\n",
        "    region_name='us-east-1'\n",
        ")\n",
        "\n",
        "table_name = 'WeatherConditions'\n",
        "table = dynamodb.Table(table_name)\n",
        "\n",
        "print(\"Table connected: \", table.table_status)"
      ]
    },
    {
      "cell_type": "code",
      "execution_count": 36,
      "metadata": {
        "colab": {
          "base_uri": "https://localhost:8080/"
        },
        "id": "XTyusl6vh9BT",
        "outputId": "837e0eca-f0a2-428c-cfc8-fcd3be924cad"
      },
      "outputs": [
        {
          "name": "stdout",
          "output_type": "stream",
          "text": [
            "{'Timeline': '01-Jan-2025 1:00 AM', 'RegionID': 'region_003', 'Pressure': Decimal('1002'), 'Temperature': Decimal('5'), 'WindVelocity': Decimal('50'), 'Humidity': Decimal('65'), 'Condition': 'Rainy'}\n",
            "{'Timeline': '01-Jan-2025 1:00 AM', 'RegionID': 'region_005', 'Pressure': Decimal('1017'), 'Temperature': Decimal('12'), 'WindVelocity': Decimal('75'), 'Humidity': Decimal('56'), 'Condition': 'Storm'}\n",
            "{'Timeline': '01-Jan-2025 1:00 AM', 'RegionID': 'region_004', 'Pressure': Decimal('1012'), 'Temperature': Decimal('25'), 'WindVelocity': Decimal('3'), 'Humidity': Decimal('20'), 'Condition': 'Clear'}\n",
            "{'Timeline': '01-Jan-2025 1:00 AM', 'RegionID': 'region_002', 'Pressure': Decimal('1010'), 'Temperature': Decimal('19'), 'WindVelocity': Decimal('35'), 'Humidity': Decimal('88'), 'Condition': 'Cloudy'}\n",
            "{'Timeline': '01-Jan-2025 2:00 AM', 'RegionID': 'region_002', 'Pressure': Decimal('1010'), 'Temperature': Decimal('18'), 'WindVelocity': Decimal('38'), 'Humidity': Decimal('89'), 'Condition': 'Rainy'}\n",
            "{'Timeline': '01-Jan-2025 1:00 AM', 'RegionID': 'region_001', 'Pressure': Decimal('1008'), 'Temperature': Decimal('15'), 'WindVelocity': Decimal('10'), 'Humidity': Decimal('55'), 'Condition': 'Clear'}\n",
            "{'Timeline': '01-Jan-2025 2:00 AM', 'RegionID': 'region_001', 'Pressure': Decimal('1008'), 'Temperature': Decimal('16'), 'WindVelocity': Decimal('5'), 'Humidity': Decimal('53'), 'Condition': 'Clear'}\n"
          ]
        }
      ],
      "source": [
        "response = table.scan()\n",
        "\n",
        "for item in response['Items']:\n",
        "    print(item)"
      ]
    },
    {
      "cell_type": "code",
      "execution_count": 37,
      "metadata": {
        "id": "sP4sTZxemZql"
      },
      "outputs": [],
      "source": [
        "from boto3.dynamodb.conditions import Key\n",
        "from boto3.dynamodb.conditions import Attr"
      ]
    },
    {
      "cell_type": "code",
      "execution_count": 38,
      "metadata": {
        "colab": {
          "base_uri": "https://localhost:8080/"
        },
        "id": "kCLgqVrYmDSv",
        "outputId": "76c0f760-2821-4c55-87ac-7f0b44d9996b"
      },
      "outputs": [
        {
          "name": "stdout",
          "output_type": "stream",
          "text": [
            "Query to check everything for region_001 => {'Items': [{'Timeline': '01-Jan-2025 1:00 AM', 'RegionID': 'region_001', 'Pressure': Decimal('1008'), 'Temperature': Decimal('15'), 'WindVelocity': Decimal('10'), 'Humidity': Decimal('55'), 'Condition': 'Clear'}, {'Timeline': '01-Jan-2025 2:00 AM', 'RegionID': 'region_001', 'Pressure': Decimal('1008'), 'Temperature': Decimal('16'), 'WindVelocity': Decimal('5'), 'Humidity': Decimal('53'), 'Condition': 'Clear'}], 'Count': 2, 'ScannedCount': 2, 'ResponseMetadata': {'RequestId': 'UA4NM0KBA7INKQ2DODBFF4PHMFVV4KQNSO5AEMVJF66Q9ASUAAJG', 'HTTPStatusCode': 200, 'HTTPHeaders': {'server': 'Server', 'date': 'Tue, 07 Jan 2025 12:05:52 GMT', 'content-type': 'application/x-amz-json-1.0', 'content-length': '425', 'connection': 'keep-alive', 'x-amzn-requestid': 'UA4NM0KBA7INKQ2DODBFF4PHMFVV4KQNSO5AEMVJF66Q9ASUAAJG', 'x-amz-crc32': '2885959476'}, 'RetryAttempts': 0}}\n"
          ]
        }
      ],
      "source": [
        "#1.Query all items for a specific RegionID.\n",
        "response1 = table.query(\n",
        "    KeyConditionExpression=Key('RegionID').eq('region_001')\n",
        ")\n",
        "print(f'Query to check everything for region_001 => {response1}')"
      ]
    },
    {
      "cell_type": "code",
      "execution_count": 39,
      "metadata": {
        "colab": {
          "base_uri": "https://localhost:8080/"
        },
        "id": "pqtoHkv1mbhc",
        "outputId": "0fb728c0-c1dc-4cf2-e6e2-a59d89bbb39d"
      },
      "outputs": [
        {
          "name": "stdout",
          "output_type": "stream",
          "text": [
            "Query for region_002 at a certain time step => {'Items': [{'Timeline': '01-Jan-2025 1:00 AM', 'RegionID': 'region_002', 'Pressure': Decimal('1010'), 'Temperature': Decimal('19'), 'WindVelocity': Decimal('35'), 'Humidity': Decimal('88'), 'Condition': 'Cloudy'}], 'Count': 1, 'ScannedCount': 1, 'ResponseMetadata': {'RequestId': 'MCAI0HJEUEFLPG2JOR9P1GALTFVV4KQNSO5AEMVJF66Q9ASUAAJG', 'HTTPStatusCode': 200, 'HTTPHeaders': {'server': 'Server', 'date': 'Tue, 07 Jan 2025 12:05:52 GMT', 'content-type': 'application/x-amz-json-1.0', 'content-length': '233', 'connection': 'keep-alive', 'x-amzn-requestid': 'MCAI0HJEUEFLPG2JOR9P1GALTFVV4KQNSO5AEMVJF66Q9ASUAAJG', 'x-amz-crc32': '3719930387'}, 'RetryAttempts': 0}}\n",
            "Query for region_002 an hour later => {'Items': [{'Timeline': '01-Jan-2025 2:00 AM', 'RegionID': 'region_002', 'Pressure': Decimal('1010'), 'Temperature': Decimal('18'), 'WindVelocity': Decimal('38'), 'Humidity': Decimal('89'), 'Condition': 'Rainy'}], 'Count': 1, 'ScannedCount': 1, 'ResponseMetadata': {'RequestId': 'MJ37SGBB514VDLLLFQA6L1SSINVV4KQNSO5AEMVJF66Q9ASUAAJG', 'HTTPStatusCode': 200, 'HTTPHeaders': {'server': 'Server', 'date': 'Tue, 07 Jan 2025 12:05:52 GMT', 'content-type': 'application/x-amz-json-1.0', 'content-length': '232', 'connection': 'keep-alive', 'x-amzn-requestid': 'MJ37SGBB514VDLLLFQA6L1SSINVV4KQNSO5AEMVJF66Q9ASUAAJG', 'x-amz-crc32': '186305884'}, 'RetryAttempts': 0}}\n"
          ]
        }
      ],
      "source": [
        "#2.Query items for a specific RegionID and Timeline.\n",
        "response2 = table.query(\n",
        "    KeyConditionExpression=Key('RegionID').eq('region_002') & Key('Timeline').eq('01-Jan-2025 1:00 AM')\n",
        ")\n",
        "\n",
        "response2_2 = table.query(\n",
        "    KeyConditionExpression=Key('RegionID').eq('region_002') & Key('Timeline').eq('01-Jan-2025 2:00 AM')\n",
        ")\n",
        "print(f'Query for region_002 at a certain time step => {response2}')\n",
        "print(f'Query for region_002 an hour later => {response2_2}')"
      ]
    },
    {
      "cell_type": "code",
      "execution_count": 40,
      "metadata": {
        "colab": {
          "base_uri": "https://localhost:8080/"
        },
        "id": "HR5oGr6dm6KG",
        "outputId": "baa9a72c-fec7-45f6-f639-bb9ffec22eae"
      },
      "outputs": [
        {
          "name": "stdout",
          "output_type": "stream",
          "text": [
            "Query for a time range[between 1:00 and 6:00 AM] for region 1=> {'Items': [{'Timeline': '01-Jan-2025 1:00 AM', 'RegionID': 'region_001', 'Pressure': Decimal('1008'), 'Temperature': Decimal('15'), 'WindVelocity': Decimal('10'), 'Humidity': Decimal('55'), 'Condition': 'Clear'}, {'Timeline': '01-Jan-2025 2:00 AM', 'RegionID': 'region_001', 'Pressure': Decimal('1008'), 'Temperature': Decimal('16'), 'WindVelocity': Decimal('5'), 'Humidity': Decimal('53'), 'Condition': 'Clear'}], 'Count': 2, 'ScannedCount': 2, 'ResponseMetadata': {'RequestId': 'RJB6R1K6M73AOH7LRIM71VHGLRVV4KQNSO5AEMVJF66Q9ASUAAJG', 'HTTPStatusCode': 200, 'HTTPHeaders': {'server': 'Server', 'date': 'Tue, 07 Jan 2025 12:05:52 GMT', 'content-type': 'application/x-amz-json-1.0', 'content-length': '425', 'connection': 'keep-alive', 'x-amzn-requestid': 'RJB6R1K6M73AOH7LRIM71VHGLRVV4KQNSO5AEMVJF66Q9ASUAAJG', 'x-amz-crc32': '2885959476'}, 'RetryAttempts': 0}}\n"
          ]
        }
      ],
      "source": [
        "#3.Query items for a specific RegionID and a Timeline range\n",
        "response3 = table.query(\n",
        "    KeyConditionExpression=Key('RegionID').eq('region_001') & Key('Timeline').between('01-Jan-2025 1:00 AM', '01-Jan-2025 6:00 AM')\n",
        ")\n",
        "print(f'Query for a time range[between 1:00 and 6:00 AM] for region 1=> {response3}')"
      ]
    },
    {
      "cell_type": "code",
      "execution_count": 41,
      "metadata": {
        "colab": {
          "base_uri": "https://localhost:8080/"
        },
        "id": "kOBjCp4ynaqi",
        "outputId": "0b79f488-843f-48d4-a5ab-d19612a3de13"
      },
      "outputs": [
        {
          "name": "stdout",
          "output_type": "stream",
          "text": [
            "Query to check where condition == Rainy => {'Items': [{'Timeline': '01-Jan-2025 1:00 AM', 'RegionID': 'region_003', 'Pressure': Decimal('1002'), 'Temperature': Decimal('5'), 'WindVelocity': Decimal('50'), 'Humidity': Decimal('65'), 'Condition': 'Rainy'}, {'Timeline': '01-Jan-2025 2:00 AM', 'RegionID': 'region_002', 'Pressure': Decimal('1010'), 'Temperature': Decimal('18'), 'WindVelocity': Decimal('38'), 'Humidity': Decimal('89'), 'Condition': 'Rainy'}], 'Count': 2, 'ScannedCount': 7, 'ResponseMetadata': {'RequestId': '46H4AITMJBPPBDA1O0RETPLH7VVV4KQNSO5AEMVJF66Q9ASUAAJG', 'HTTPStatusCode': 200, 'HTTPHeaders': {'server': 'Server', 'date': 'Tue, 07 Jan 2025 12:05:52 GMT', 'content-type': 'application/x-amz-json-1.0', 'content-length': '425', 'connection': 'keep-alive', 'x-amzn-requestid': '46H4AITMJBPPBDA1O0RETPLH7VVV4KQNSO5AEMVJF66Q9ASUAAJG', 'x-amz-crc32': '1463416654'}, 'RetryAttempts': 0}}\n"
          ]
        }
      ],
      "source": [
        "#4.Filter items by Condition\n",
        "response4 = table.scan(\n",
        "    FilterExpression=Attr('Condition').eq('Rainy')\n",
        ")\n",
        "print(f'Query to check where condition == Rainy => {response4}')"
      ]
    },
    {
      "cell_type": "code",
      "execution_count": 42,
      "metadata": {
        "colab": {
          "base_uri": "https://localhost:8080/"
        },
        "id": "k48h70gan1x4",
        "outputId": "4b14e686-7325-4877-a66c-f67719c37472"
      },
      "outputs": [
        {
          "name": "stdout",
          "output_type": "stream",
          "text": [
            "Query to check where Humidity is grater than 55 => {'Items': [{'Timeline': '01-Jan-2025 1:00 AM', 'RegionID': 'region_003', 'Pressure': Decimal('1002'), 'Temperature': Decimal('5'), 'WindVelocity': Decimal('50'), 'Humidity': Decimal('65'), 'Condition': 'Rainy'}, {'Timeline': '01-Jan-2025 1:00 AM', 'RegionID': 'region_005', 'Pressure': Decimal('1017'), 'Temperature': Decimal('12'), 'WindVelocity': Decimal('75'), 'Humidity': Decimal('56'), 'Condition': 'Storm'}, {'Timeline': '01-Jan-2025 1:00 AM', 'RegionID': 'region_002', 'Pressure': Decimal('1010'), 'Temperature': Decimal('19'), 'WindVelocity': Decimal('35'), 'Humidity': Decimal('88'), 'Condition': 'Cloudy'}, {'Timeline': '01-Jan-2025 2:00 AM', 'RegionID': 'region_002', 'Pressure': Decimal('1010'), 'Temperature': Decimal('18'), 'WindVelocity': Decimal('38'), 'Humidity': Decimal('89'), 'Condition': 'Rainy'}], 'Count': 4, 'ScannedCount': 7, 'ResponseMetadata': {'RequestId': '5ONKEDKNNQ00US7IGS2BRB8UFNVV4KQNSO5AEMVJF66Q9ASUAAJG', 'HTTPStatusCode': 200, 'HTTPHeaders': {'server': 'Server', 'date': 'Tue, 07 Jan 2025 12:05:53 GMT', 'content-type': 'application/x-amz-json-1.0', 'content-length': '814', 'connection': 'keep-alive', 'x-amzn-requestid': '5ONKEDKNNQ00US7IGS2BRB8UFNVV4KQNSO5AEMVJF66Q9ASUAAJG', 'x-amz-crc32': '983711122'}, 'RetryAttempts': 0}}\n"
          ]
        }
      ],
      "source": [
        "# 5. Query items with Humidity greater than a certain value\n",
        "response5 = table.scan(\n",
        "    FilterExpression=Attr('Humidity').gt(55)\n",
        ")\n",
        "print(f'Query to check where Humidity is grater than 55 => {response5}')"
      ]
    },
    {
      "cell_type": "code",
      "execution_count": 43,
      "metadata": {
        "colab": {
          "base_uri": "https://localhost:8080/"
        },
        "id": "GhK6h7wpoOMG",
        "outputId": "2eedf199-94c6-4bdf-d6c5-ce43600ed400"
      },
      "outputs": [
        {
          "name": "stdout",
          "output_type": "stream",
          "text": [
            "Query to check where Temperature is [15-20]=> {'Items': [{'Timeline': '01-Jan-2025 1:00 AM', 'RegionID': 'region_004', 'Pressure': Decimal('1012'), 'Temperature': Decimal('25'), 'WindVelocity': Decimal('3'), 'Humidity': Decimal('20'), 'Condition': 'Clear'}, {'Timeline': '01-Jan-2025 1:00 AM', 'RegionID': 'region_002', 'Pressure': Decimal('1010'), 'Temperature': Decimal('19'), 'WindVelocity': Decimal('35'), 'Humidity': Decimal('88'), 'Condition': 'Cloudy'}, {'Timeline': '01-Jan-2025 2:00 AM', 'RegionID': 'region_002', 'Pressure': Decimal('1010'), 'Temperature': Decimal('18'), 'WindVelocity': Decimal('38'), 'Humidity': Decimal('89'), 'Condition': 'Rainy'}, {'Timeline': '01-Jan-2025 1:00 AM', 'RegionID': 'region_001', 'Pressure': Decimal('1008'), 'Temperature': Decimal('15'), 'WindVelocity': Decimal('10'), 'Humidity': Decimal('55'), 'Condition': 'Clear'}, {'Timeline': '01-Jan-2025 2:00 AM', 'RegionID': 'region_001', 'Pressure': Decimal('1008'), 'Temperature': Decimal('16'), 'WindVelocity': Decimal('5'), 'Humidity': Decimal('53'), 'Condition': 'Clear'}], 'Count': 5, 'ScannedCount': 7, 'ResponseMetadata': {'RequestId': 'U0EGG3AUQBIG9RIBF38P7HQEFVVV4KQNSO5AEMVJF66Q9ASUAAJG', 'HTTPStatusCode': 200, 'HTTPHeaders': {'server': 'Server', 'date': 'Tue, 07 Jan 2025 12:05:53 GMT', 'content-type': 'application/x-amz-json-1.0', 'content-length': '1007', 'connection': 'keep-alive', 'x-amzn-requestid': 'U0EGG3AUQBIG9RIBF38P7HQEFVVV4KQNSO5AEMVJF66Q9ASUAAJG', 'x-amz-crc32': '1975579050'}, 'RetryAttempts': 0}}\n"
          ]
        }
      ],
      "source": [
        "#6.Query items with Temperature between two values\n",
        "response6 = table.scan(\n",
        "    FilterExpression=Attr('Temperature').between(15, 25)\n",
        ")\n",
        "print(f'Query to check where Temperature is [15-20]=> {response6}')"
      ]
    },
    {
      "cell_type": "code",
      "execution_count": 44,
      "metadata": {
        "colab": {
          "base_uri": "https://localhost:8080/"
        },
        "id": "ccPD9X2UomVC",
        "outputId": "05591922-442d-4350-eb02-1422a93ea94d"
      },
      "outputs": [
        {
          "name": "stdout",
          "output_type": "stream",
          "text": [
            "Query to check where Pressure is lower than 1010=> {'Items': [{'Timeline': '01-Jan-2025 1:00 AM', 'RegionID': 'region_003', 'Pressure': Decimal('1002'), 'Temperature': Decimal('5'), 'WindVelocity': Decimal('50'), 'Humidity': Decimal('65'), 'Condition': 'Rainy'}, {'Timeline': '01-Jan-2025 1:00 AM', 'RegionID': 'region_001', 'Pressure': Decimal('1008'), 'Temperature': Decimal('15'), 'WindVelocity': Decimal('10'), 'Humidity': Decimal('55'), 'Condition': 'Clear'}, {'Timeline': '01-Jan-2025 2:00 AM', 'RegionID': 'region_001', 'Pressure': Decimal('1008'), 'Temperature': Decimal('16'), 'WindVelocity': Decimal('5'), 'Humidity': Decimal('53'), 'Condition': 'Clear'}], 'Count': 3, 'ScannedCount': 7, 'ResponseMetadata': {'RequestId': 'IN96K7R8S7175RQRAPNQAH6HE7VV4KQNSO5AEMVJF66Q9ASUAAJG', 'HTTPStatusCode': 200, 'HTTPHeaders': {'server': 'Server', 'date': 'Tue, 07 Jan 2025 12:05:53 GMT', 'content-type': 'application/x-amz-json-1.0', 'content-length': '618', 'connection': 'keep-alive', 'x-amzn-requestid': 'IN96K7R8S7175RQRAPNQAH6HE7VV4KQNSO5AEMVJF66Q9ASUAAJG', 'x-amz-crc32': '3068564239'}, 'RetryAttempts': 0}}\n"
          ]
        }
      ],
      "source": [
        "#7.Query items where Pressure is lower than a specific value\n",
        "response7 = table.scan(\n",
        "    FilterExpression=Attr('Pressure').lt(1010)\n",
        ")\n",
        "print(f'Query to check where Pressure is lower than 1010=> {response7}')"
      ]
    },
    {
      "cell_type": "code",
      "execution_count": 45,
      "metadata": {
        "colab": {
          "base_uri": "https://localhost:8080/"
        },
        "id": "lEMN6mofpEzc",
        "outputId": "afe2ab26-96d1-406d-c546-53b368555e5e"
      },
      "outputs": [
        {
          "name": "stdout",
          "output_type": "stream",
          "text": [
            "Query to check values where COnditions =! Cloudy => {'Items': [{'Timeline': '01-Jan-2025 1:00 AM', 'RegionID': 'region_003', 'Pressure': Decimal('1002'), 'Temperature': Decimal('5'), 'WindVelocity': Decimal('50'), 'Humidity': Decimal('65'), 'Condition': 'Rainy'}, {'Timeline': '01-Jan-2025 1:00 AM', 'RegionID': 'region_005', 'Pressure': Decimal('1017'), 'Temperature': Decimal('12'), 'WindVelocity': Decimal('75'), 'Humidity': Decimal('56'), 'Condition': 'Storm'}, {'Timeline': '01-Jan-2025 1:00 AM', 'RegionID': 'region_004', 'Pressure': Decimal('1012'), 'Temperature': Decimal('25'), 'WindVelocity': Decimal('3'), 'Humidity': Decimal('20'), 'Condition': 'Clear'}, {'Timeline': '01-Jan-2025 2:00 AM', 'RegionID': 'region_002', 'Pressure': Decimal('1010'), 'Temperature': Decimal('18'), 'WindVelocity': Decimal('38'), 'Humidity': Decimal('89'), 'Condition': 'Rainy'}, {'Timeline': '01-Jan-2025 1:00 AM', 'RegionID': 'region_001', 'Pressure': Decimal('1008'), 'Temperature': Decimal('15'), 'WindVelocity': Decimal('10'), 'Humidity': Decimal('55'), 'Condition': 'Clear'}, {'Timeline': '01-Jan-2025 2:00 AM', 'RegionID': 'region_001', 'Pressure': Decimal('1008'), 'Temperature': Decimal('16'), 'WindVelocity': Decimal('5'), 'Humidity': Decimal('53'), 'Condition': 'Clear'}], 'Count': 6, 'ScannedCount': 7, 'ResponseMetadata': {'RequestId': 'FMKNKSSHCU6R6Q4MSC8HONA0UFVV4KQNSO5AEMVJF66Q9ASUAAJG', 'HTTPStatusCode': 200, 'HTTPHeaders': {'server': 'Server', 'date': 'Tue, 07 Jan 2025 12:05:53 GMT', 'content-type': 'application/x-amz-json-1.0', 'content-length': '1199', 'connection': 'keep-alive', 'x-amzn-requestid': 'FMKNKSSHCU6R6Q4MSC8HONA0UFVV4KQNSO5AEMVJF66Q9ASUAAJG', 'x-amz-crc32': '37366624'}, 'RetryAttempts': 0}}\n"
          ]
        }
      ],
      "source": [
        "#8.Query items with Condition not equal to \"Cloudy\"\n",
        "response8 = table.scan(\n",
        "    FilterExpression=Attr('Condition').ne('Cloudy')\n",
        ")\n",
        "print(f'Query to check values where COnditions =! Cloudy => {response8}')"
      ]
    },
    {
      "cell_type": "code",
      "execution_count": 46,
      "metadata": {
        "colab": {
          "base_uri": "https://localhost:8080/"
        },
        "id": "PF74tHQWpT7O",
        "outputId": "d4794b5f-8b62-4849-dad4-c55adb4dd9ad"
      },
      "outputs": [
        {
          "name": "stdout",
          "output_type": "stream",
          "text": [
            "Query to check values where Humidity is less or equal than 65=> {'Items': [{'Timeline': '01-Jan-2025 1:00 AM', 'RegionID': 'region_003', 'Pressure': Decimal('1002'), 'Temperature': Decimal('5'), 'WindVelocity': Decimal('50'), 'Humidity': Decimal('65'), 'Condition': 'Rainy'}, {'Timeline': '01-Jan-2025 1:00 AM', 'RegionID': 'region_005', 'Pressure': Decimal('1017'), 'Temperature': Decimal('12'), 'WindVelocity': Decimal('75'), 'Humidity': Decimal('56'), 'Condition': 'Storm'}, {'Timeline': '01-Jan-2025 1:00 AM', 'RegionID': 'region_004', 'Pressure': Decimal('1012'), 'Temperature': Decimal('25'), 'WindVelocity': Decimal('3'), 'Humidity': Decimal('20'), 'Condition': 'Clear'}, {'Timeline': '01-Jan-2025 1:00 AM', 'RegionID': 'region_001', 'Pressure': Decimal('1008'), 'Temperature': Decimal('15'), 'WindVelocity': Decimal('10'), 'Humidity': Decimal('55'), 'Condition': 'Clear'}, {'Timeline': '01-Jan-2025 2:00 AM', 'RegionID': 'region_001', 'Pressure': Decimal('1008'), 'Temperature': Decimal('16'), 'WindVelocity': Decimal('5'), 'Humidity': Decimal('53'), 'Condition': 'Clear'}], 'Count': 5, 'ScannedCount': 7, 'ResponseMetadata': {'RequestId': '9RNGGP1IPQHB60OHD9CUAI36FVVV4KQNSO5AEMVJF66Q9ASUAAJG', 'HTTPStatusCode': 200, 'HTTPHeaders': {'server': 'Server', 'date': 'Tue, 07 Jan 2025 12:05:53 GMT', 'content-type': 'application/x-amz-json-1.0', 'content-length': '1005', 'connection': 'keep-alive', 'x-amzn-requestid': '9RNGGP1IPQHB60OHD9CUAI36FVVV4KQNSO5AEMVJF66Q9ASUAAJG', 'x-amz-crc32': '1528892964'}, 'RetryAttempts': 0}}\n"
          ]
        }
      ],
      "source": [
        "#9.Query items where Humidity is less than or equal to 90\n",
        "response9 = table.scan(\n",
        "    FilterExpression=Attr('Humidity').lte(65)\n",
        ")\n",
        "print(f'Query to check values where Humidity is less or equal than 65=> {response9}')"
      ]
    },
    {
      "cell_type": "code",
      "execution_count": 47,
      "metadata": {
        "colab": {
          "base_uri": "https://localhost:8080/"
        },
        "id": "Q52kTDFwprpC",
        "outputId": "af8687dc-614e-40a3-f8f3-90daecdcc6b5"
      },
      "outputs": [
        {
          "name": "stdout",
          "output_type": "stream",
          "text": [
            "Query to check values where WindVelocity is greater than 35 for region_002=> {'Items': [{'Timeline': '01-Jan-2025 2:00 AM', 'RegionID': 'region_002', 'Pressure': Decimal('1010'), 'Temperature': Decimal('18'), 'WindVelocity': Decimal('38'), 'Humidity': Decimal('89'), 'Condition': 'Rainy'}], 'Count': 1, 'ScannedCount': 7, 'ResponseMetadata': {'RequestId': 'OD38JDTUMGHLACQLA6QFQ9A5J3VV4KQNSO5AEMVJF66Q9ASUAAJG', 'HTTPStatusCode': 200, 'HTTPHeaders': {'server': 'Server', 'date': 'Tue, 07 Jan 2025 12:05:53 GMT', 'content-type': 'application/x-amz-json-1.0', 'content-length': '232', 'connection': 'keep-alive', 'x-amzn-requestid': 'OD38JDTUMGHLACQLA6QFQ9A5J3VV4KQNSO5AEMVJF66Q9ASUAAJG', 'x-amz-crc32': '1564502746'}, 'RetryAttempts': 0}}\n"
          ]
        }
      ],
      "source": [
        "#10.Query items with WindVelocity greater than 30 for a RegionID\n",
        "response10 = table.scan(\n",
        "    FilterExpression=Key('RegionID').eq('region_002') & Attr('WindVelocity').gt(35)\n",
        ")\n",
        "print(f'Query to check values where WindVelocity is greater than 35 for region_002=> {response10}')"
      ]
    }
  ],
  "metadata": {
    "colab": {
      "provenance": []
    },
    "kernelspec": {
      "display_name": "collegeEnv",
      "language": "python",
      "name": "python3"
    },
    "language_info": {
      "codemirror_mode": {
        "name": "ipython",
        "version": 3
      },
      "file_extension": ".py",
      "mimetype": "text/x-python",
      "name": "python",
      "nbconvert_exporter": "python",
      "pygments_lexer": "ipython3",
      "version": "3.10.13"
    }
  },
  "nbformat": 4,
  "nbformat_minor": 0
}
